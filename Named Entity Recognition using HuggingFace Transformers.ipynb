{
 "cells": [
  {
   "cell_type": "markdown",
   "metadata": {},
   "source": [
    "## <center> Named Entity Recognition using HuggingFace BERT Transformer </center> <br><sup><center> W266: Final Project Source Code </center></sup><br><sup><center> Pierce Coggins and Bhuvnesh Sharma </center></sup>\n",
    "___\n",
    "\n",
    "This project will employ the HuggingFace Transformers framework and SimpleTransformers as the basis for developing a Transformer-based model for NER. Most transformer models have only been tested against the primary CoNLL-2003 NER dataset and not other more complex NER datasets. In this project we look to test the BERT pretained base model against more recent NER benchmarks that better represent modern day NER tasks. Here is an overview of the datasets we will be testing against:\n",
    "\n",
    "\n",
    "Corpus | Year | Text Source | # of Tags \n",
    ":-----:|:-----:|:-----:|:-----:\n",
    "CoNLL03 | 2003 | Reuters News | 4\n",
    "W-NUT | 2015 - 2018 | User-generated Text | 7\n",
    "GENIA | 2004 | Biology & Clinical Text | 6\n",
    "\n",
    "\n",
    "\n",
    "While BERT-like transformer models have performed exceedingly well across various NLP tasks, including NER, this performance was conducted only on the most cannonical NLP datasets. Within the field of NER, the BERT model performance was assessed using the CoNLL-2003 dataset, sourced from Reuters News articles from 1996-1997 with only 4 named entities tagged. As illustrated above, many of the publicly available NER corpora are generated from new sources; however, the field of NER has progressed beyond the foundation established by the CoNLL-2003 dataset. For example, The W-NUT corpus (2015-2018) focuses on testing the generalization of NER models against a more diverse text environment and the GENIA corpus is generated from domain specific biology and clinical text. While the team at Google only presented their results for the CoNLL-2003 dataset, the objectiv in this project is to assess how generalizable the BERT pretrained models are when fine-tuned on more complex NER datasets.\n",
    "\n"
   ]
  },
  {
   "cell_type": "code",
   "execution_count": 5,
   "metadata": {},
   "outputs": [],
   "source": [
    "import pandas as pd \n",
    "from simpletransformers.ner import NERModel"
   ]
  },
  {
   "cell_type": "markdown",
   "metadata": {},
   "source": [
    "### Base Bert model on CoNLL-2003 dataset"
   ]
  },
  {
   "cell_type": "code",
   "execution_count": null,
   "metadata": {},
   "outputs": [],
   "source": [
    "model = NERModel('bert', 'bert-base-cased', use_cuda = False)"
   ]
  },
  {
   "cell_type": "code",
   "execution_count": null,
   "metadata": {},
   "outputs": [],
   "source": [
    "model.train_model('data/train.txt')"
   ]
  },
  {
   "cell_type": "markdown",
   "metadata": {},
   "source": [
    "**Evaluating Base Bert model against CoNLL-2003 train dataset**"
   ]
  },
  {
   "cell_type": "code",
   "execution_count": 6,
   "metadata": {},
   "outputs": [
    {
     "name": "stdout",
     "output_type": "stream",
     "text": [
      "Converting to features started.\n"
     ]
    },
    {
     "data": {
      "application/vnd.jupyter.widget-view+json": {
       "model_id": "83231d75341f4708a87fe6e7d4efd1a7",
       "version_major": 2,
       "version_minor": 0
      },
      "text/plain": [
       "HBox(children=(IntProgress(value=0, max=14041), HTML(value='')))"
      ]
     },
     "metadata": {},
     "output_type": "display_data"
    },
    {
     "name": "stdout",
     "output_type": "stream",
     "text": [
      "\n"
     ]
    },
    {
     "data": {
      "application/vnd.jupyter.widget-view+json": {
       "model_id": "ff9980fc1067486298dcb0af25059789",
       "version_major": 2,
       "version_minor": 0
      },
      "text/plain": [
       "HBox(children=(IntProgress(value=0, max=1756), HTML(value='')))"
      ]
     },
     "metadata": {},
     "output_type": "display_data"
    },
    {
     "name": "stdout",
     "output_type": "stream",
     "text": [
      "\n",
      "{'eval_loss': 0.022640006968443673, 'precision': 0.9710453480945285, 'recall': 0.9704668283756755, 'f1_score': 0.9707560020432487}\n"
     ]
    }
   ],
   "source": [
    "result, model_outputs, predictions = model.eval_model('data/train.txt')"
   ]
  },
  {
   "cell_type": "markdown",
   "metadata": {},
   "source": [
    "** Evaluating Base Bert model against CoNNL-2003 test dataset **"
   ]
  },
  {
   "cell_type": "code",
   "execution_count": 3,
   "metadata": {},
   "outputs": [
    {
     "name": "stdout",
     "output_type": "stream",
     "text": [
      "Features loaded from cache at cache_dir/cached_dev_bert_128_9_3453\n"
     ]
    },
    {
     "data": {
      "application/vnd.jupyter.widget-view+json": {
       "model_id": "13e6e4be719747478aa2f9814967c2e8",
       "version_major": 2,
       "version_minor": 0
      },
      "text/plain": [
       "HBox(children=(IntProgress(value=0, max=432), HTML(value='')))"
      ]
     },
     "metadata": {},
     "output_type": "display_data"
    },
    {
     "name": "stdout",
     "output_type": "stream",
     "text": [
      "\n",
      "{'eval_loss': 0.10845712301886158, 'precision': 0.9011353711790393, 'recall': 0.9140680368532955, 'f1_score': 0.9075556337408742}\n"
     ]
    }
   ],
   "source": [
    "test_result, test_model_outputs, test_predictions = model.eval_model('data/test.txt')"
   ]
  },
  {
   "cell_type": "markdown",
   "metadata": {},
   "source": [
    "### Base Bert model on W-NUT Dataset "
   ]
  },
  {
   "cell_type": "markdown",
   "metadata": {},
   "source": [
    "Read in Train and test datasets, standardize column data types and remove NAN values"
   ]
  },
  {
   "cell_type": "code",
   "execution_count": 76,
   "metadata": {},
   "outputs": [],
   "source": [
    "wnut_train = pd.read_csv('data/train.csv')\n",
    "wnut_test = pd.read_csv('data/test.csv')\n",
    "wnut_train = pd.DataFrame(wnut_train)\n",
    "wnut_test = pd.DataFrame(wnut_test)\n",
    "\n",
    "convert_dict = {'sentence_id': int, \n",
    "                'words': str,\n",
    "                'labels': str\n",
    "               } \n",
    "\n",
    "wnut_train_new = wnut_train.dropna() \n",
    "wnut_test_new = wnut_test.dropna()\n",
    "\n",
    "wnut_train_new = wnut_train_new.astype(convert_dict) \n",
    "wnut_test_new = wnut_test_new.astype(convert_dict)"
   ]
  },
  {
   "cell_type": "code",
   "execution_count": 77,
   "metadata": {},
   "outputs": [
    {
     "data": {
      "text/plain": [
       "<bound method NDFrame.head of        sentence_id                   words      labels\n",
       "0                0               @paulwalk           O\n",
       "1                0                      It           O\n",
       "2                0                      's           O\n",
       "3                0                     the           O\n",
       "4                0                    view           O\n",
       "5                0                    from           O\n",
       "6                0                   where           O\n",
       "7                0                       I           O\n",
       "8                0                      'm           O\n",
       "9                0                  living           O\n",
       "10               0                     for           O\n",
       "11               0                     two           O\n",
       "12               0                   weeks           O\n",
       "13               0                       .           O\n",
       "14               0                  Empire  B-location\n",
       "15               0                   State  I-location\n",
       "16               0                Building  I-location\n",
       "17               0                       =           O\n",
       "18               0                     ESB  B-location\n",
       "19               0                       .           O\n",
       "20               0                  Pretty           O\n",
       "21               0                     bad           O\n",
       "22               0                   storm           O\n",
       "23               0                    here           O\n",
       "24               0                    last           O\n",
       "25               0                 evening           O\n",
       "26               0                       .           O\n",
       "28               1                    From           O\n",
       "29               1                   Green           O\n",
       "30               1                Newsfeed           O\n",
       "...            ...                     ...         ...\n",
       "57863         2172                   truck           O\n",
       "57864         2172                  Friday           O\n",
       "57865         2172                     ...           O\n",
       "57866         2172  http://t.co/Ov8l77dsFI           O\n",
       "57867         2172            Conditioning           O\n",
       "57868         2172                    plan           O\n",
       "57869         2172                     all           O\n",
       "57870         2172                    made           O\n",
       "57871         2172                      up           O\n",
       "57872         2172                     for           O\n",
       "57873         2172                tomorrow           O\n",
       "57874         2172                       ,           O\n",
       "57875         2172                   final           O\n",
       "57876         2172                 touches           O\n",
       "57877         2172                    have           O\n",
       "57878         2172                    been           O\n",
       "57879         2172                    made           O\n",
       "57880         2172                      !!           O\n",
       "57881         2172          #softballready           O\n",
       "57882         2172                     Sat           O\n",
       "57883         2172                     Jan           O\n",
       "57884         2172                      10           O\n",
       "57885         2172                    2015           O\n",
       "57886         2172                   12:46           O\n",
       "57887         2172                       :           O\n",
       "57888         2172                      39           O\n",
       "57889         2172                GMT+0000           O\n",
       "57890         2172                       (           O\n",
       "57891         2172                     UTC           O\n",
       "57892         2172                       )           O\n",
       "\n",
       "[55721 rows x 3 columns]>"
      ]
     },
     "execution_count": 77,
     "metadata": {},
     "output_type": "execute_result"
    }
   ],
   "source": [
    "wnut_train_new.head"
   ]
  },
  {
   "cell_type": "markdown",
   "metadata": {},
   "source": [
    "**Building and training Base BERT model on W-NUT dataset **\n",
    "\n",
    "Note updated labels have been applied to match with custom W-NUT entity labels"
   ]
  },
  {
   "cell_type": "code",
   "execution_count": 78,
   "metadata": {},
   "outputs": [],
   "source": [
    "WNUT_model = NERModel('bert', 'bert-base-cased', labels=[\"O\", \"B-location\", \"I-location\", \"B-person\", \"I-person\", \"B-corporation\", \"I-corporation\", \"B-group\", \"I-group\", \"B-creative-work\", \"I-creative-work\", \"B-product\", \"I-product\"], use_cuda = False)"
   ]
  },
  {
   "cell_type": "code",
   "execution_count": 79,
   "metadata": {},
   "outputs": [
    {
     "name": "stdout",
     "output_type": "stream",
     "text": [
      "Features loaded from cache at cache_dir/cached_train_bert_128_13_2173\n"
     ]
    },
    {
     "data": {
      "application/vnd.jupyter.widget-view+json": {
       "model_id": "977983898f2548b4a4a2873b063ac022",
       "version_major": 2,
       "version_minor": 0
      },
      "text/plain": [
       "HBox(children=(IntProgress(value=0, description='Epoch', max=1, style=ProgressStyle(description_width='initial…"
      ]
     },
     "metadata": {},
     "output_type": "display_data"
    },
    {
     "data": {
      "application/vnd.jupyter.widget-view+json": {
       "model_id": "ac85090299db4f2788aeaa7c9b771d74",
       "version_major": 2,
       "version_minor": 0
      },
      "text/plain": [
       "HBox(children=(IntProgress(value=0, description='Current iteration', max=272, style=ProgressStyle(description_…"
      ]
     },
     "metadata": {},
     "output_type": "display_data"
    },
    {
     "name": "stdout",
     "output_type": "stream",
     "text": [
      "Running loss: 0.010380\n",
      "\n",
      "Training of bert model complete. Saved to outputs_wnut.\n"
     ]
    }
   ],
   "source": [
    "WNUT_model.train_model(wnut_train_new, output_dir = 'outputs_wnut', args={'overwrite_output_dir': True})"
   ]
  },
  {
   "cell_type": "markdown",
   "metadata": {},
   "source": [
    "** Evaluation Base BERT model against W-NUT Training dataset **"
   ]
  },
  {
   "cell_type": "code",
   "execution_count": null,
   "metadata": {},
   "outputs": [],
   "source": [
    "WNUT_result, WNUT_model_outputs, WNUT_predictions = WNUT_model.eval_model(wnut_train_new)"
   ]
  },
  {
   "cell_type": "markdown",
   "metadata": {},
   "source": [
    "**Evaluating Base Bert model against W-NUT Test dataset**"
   ]
  },
  {
   "cell_type": "code",
   "execution_count": 46,
   "metadata": {},
   "outputs": [
    {
     "name": "stdout",
     "output_type": "stream",
     "text": [
      "Features loaded from cache at cache_dir/cached_dev_bert_128_13_1287\n"
     ]
    },
    {
     "data": {
      "application/vnd.jupyter.widget-view+json": {
       "model_id": "74f9c2f2432c454e82e6479d2b1ac27c",
       "version_major": 2,
       "version_minor": 0
      },
      "text/plain": [
       "HBox(children=(IntProgress(value=0, max=161), HTML(value='')))"
      ]
     },
     "metadata": {},
     "output_type": "display_data"
    },
    {
     "name": "stdout",
     "output_type": "stream",
     "text": [
      "\n",
      "{'eval_loss': 0.07599619912527363, 'precision': 0.0, 'recall': 0, 'f1_score': 0}\n"
     ]
    }
   ],
   "source": [
    "WNUT_result, WNUT_model_outputs, WNUT_predictions = WNUT_model.eval_model(wnut_test_new)"
   ]
  },
  {
   "cell_type": "code",
   "execution_count": null,
   "metadata": {},
   "outputs": [],
   "source": []
  },
  {
   "cell_type": "markdown",
   "metadata": {},
   "source": [
    "### Base Bert model against GENIA Medical NER Dataset"
   ]
  },
  {
   "cell_type": "code",
   "execution_count": 61,
   "metadata": {},
   "outputs": [],
   "source": [
    "genia_train = pd.read_csv('data/genia_train.csv')\n",
    "genia_test = pd.read_csv('data/genie_test.csv')\n",
    "genia_train_new = pd.DataFrame(genia_train)\n",
    "genia_test_new = pd.DataFrame(genia_test)"
   ]
  },
  {
   "cell_type": "code",
   "execution_count": 65,
   "metadata": {},
   "outputs": [
    {
     "data": {
      "text/plain": [
       "<bound method NDFrame.head of        sentence_id           words       labels\n",
       "0                0          Number            O\n",
       "1                0              of            O\n",
       "2                0  glucocorticoid    B-protein\n",
       "3                0       receptors    I-protein\n",
       "4                0              in            O\n",
       "5                0     lymphocytes  B-cell_type\n",
       "6                0             and            O\n",
       "7                0           their            O\n",
       "8                0     sensitivity            O\n",
       "9                0              to            O\n",
       "10               0         hormone            O\n",
       "11               0          action            O\n",
       "12               0               .            O\n",
       "14               1             The            O\n",
       "15               1           study            O\n",
       "16               1    demonstrated            O\n",
       "17               1               a            O\n",
       "18               1       decreased            O\n",
       "19               1           level            O\n",
       "20               1              of            O\n",
       "21               1  glucocorticoid    B-protein\n",
       "22               1       receptors    I-protein\n",
       "23               1               (            O\n",
       "24               1              GR    B-protein\n",
       "25               1               )            O\n",
       "26               1              in            O\n",
       "27               1      peripheral  B-cell_type\n",
       "28               1           blood  I-cell_type\n",
       "29               1     lymphocytes  I-cell_type\n",
       "30               1            from            O\n",
       "...            ...             ...          ...\n",
       "15440          558            cell  I-cell_line\n",
       "15441          558           lines  I-cell_line\n",
       "15442          558               .            O\n",
       "15444          559              We            O\n",
       "15445          559        conclude            O\n",
       "15446          559            that            O\n",
       "15447          559            BSAP    B-protein\n",
       "15448          559      expression            O\n",
       "15449          559              is            O\n",
       "15450          559         largely            O\n",
       "15451          559      restricted            O\n",
       "15452          559              to            O\n",
       "15453          559       lymphomas            O\n",
       "15454          559              of            O\n",
       "15455          559          B-cell  B-cell_type\n",
       "15456          559         lineage  I-cell_type\n",
       "15457          559             and            O\n",
       "15458          559            that            O\n",
       "15459          559            BSAP    B-protein\n",
       "15460          559      expression            O\n",
       "15461          559          varies            O\n",
       "15462          559              in            O\n",
       "15463          559          B-cell  B-cell_type\n",
       "15464          559         subsets  I-cell_type\n",
       "15465          559             and            O\n",
       "15466          559        subtypes            O\n",
       "15467          559              of            O\n",
       "15468          559          B-cell            O\n",
       "15469          559             NHL            O\n",
       "15470          559               .            O\n",
       "\n",
       "[14908 rows x 3 columns]>"
      ]
     },
     "execution_count": 65,
     "metadata": {},
     "output_type": "execute_result"
    }
   ],
   "source": [
    "convert_dict = {'sentence_id': int, \n",
    "                'words': str,\n",
    "                'labels': str\n",
    "               } \n",
    "\n",
    "genia_train_new = genia_train_new.dropna() \n",
    "genia_test_new = genia_test_new.dropna()\n",
    "\n",
    "genia_train_new = genia_train_new.astype(convert_dict) \n",
    "genia_test_new = genia_test_new.astype(convert_dict)\n",
    "\n",
    "genia_test_new.head"
   ]
  },
  {
   "cell_type": "code",
   "execution_count": 54,
   "metadata": {},
   "outputs": [],
   "source": [
    "genia_model = NERModel('bert', 'bert-base-cased', labels=[\"O\", \"B-DNA\", \"I-DNA\", \"B-protein\", \"I-protein\", \"B-cell_type\", \"I-cell_type\", \"B-cell_line\", \"I-cell_line\", \"B-RNA\", \"I-RNA\"], use_cuda = False)"
   ]
  },
  {
   "cell_type": "code",
   "execution_count": 55,
   "metadata": {},
   "outputs": [
    {
     "name": "stdout",
     "output_type": "stream",
     "text": [
      "Converting to features started.\n"
     ]
    },
    {
     "data": {
      "application/vnd.jupyter.widget-view+json": {
       "model_id": "936f6ba5df204538a0e3f8ffe1a3e0f6",
       "version_major": 2,
       "version_minor": 0
      },
      "text/plain": [
       "HBox(children=(IntProgress(value=0, max=1418), HTML(value='')))"
      ]
     },
     "metadata": {},
     "output_type": "display_data"
    },
    {
     "name": "stdout",
     "output_type": "stream",
     "text": [
      "\n"
     ]
    },
    {
     "data": {
      "application/vnd.jupyter.widget-view+json": {
       "model_id": "8617e67338574fd595bc46fc6fb23c9f",
       "version_major": 2,
       "version_minor": 0
      },
      "text/plain": [
       "HBox(children=(IntProgress(value=0, description='Epoch', max=1, style=ProgressStyle(description_width='initial…"
      ]
     },
     "metadata": {},
     "output_type": "display_data"
    },
    {
     "data": {
      "application/vnd.jupyter.widget-view+json": {
       "model_id": "4fff223df4f74e7591c91408ef255769",
       "version_major": 2,
       "version_minor": 0
      },
      "text/plain": [
       "HBox(children=(IntProgress(value=0, description='Current iteration', max=178, style=ProgressStyle(description_…"
      ]
     },
     "metadata": {},
     "output_type": "display_data"
    },
    {
     "name": "stdout",
     "output_type": "stream",
     "text": [
      "Running loss: 0.333312\n",
      "\n",
      "Training of bert model complete. Saved to outputs_genia.\n"
     ]
    }
   ],
   "source": [
    "genia_model.train_model(genia_train, output_dir = 'outputs_genia', args={'overwrite_output_dir': True})"
   ]
  },
  {
   "cell_type": "code",
   "execution_count": 68,
   "metadata": {},
   "outputs": [
    {
     "name": "stdout",
     "output_type": "stream",
     "text": [
      "Converting to features started.\n"
     ]
    },
    {
     "data": {
      "application/vnd.jupyter.widget-view+json": {
       "model_id": "05687080f0e442aa9a31a5c07e93965d",
       "version_major": 2,
       "version_minor": 0
      },
      "text/plain": [
       "HBox(children=(IntProgress(value=0, max=1418), HTML(value='')))"
      ]
     },
     "metadata": {},
     "output_type": "display_data"
    },
    {
     "name": "stdout",
     "output_type": "stream",
     "text": [
      "\n"
     ]
    },
    {
     "data": {
      "application/vnd.jupyter.widget-view+json": {
       "model_id": "5a2ebfb948c94045915e14bf249c794a",
       "version_major": 2,
       "version_minor": 0
      },
      "text/plain": [
       "HBox(children=(IntProgress(value=0, max=178), HTML(value='')))"
      ]
     },
     "metadata": {},
     "output_type": "display_data"
    },
    {
     "name": "stdout",
     "output_type": "stream",
     "text": [
      "\n",
      "{'eval_loss': 0.19831275284876315, 'precision': 0.6495744680851064, 'recall': 0.7490186457311089, 'f1_score': 0.6957611668185961}\n"
     ]
    }
   ],
   "source": [
    "genia_result, genia_model_outputs, genia_predictions = genia_model.eval_model(genia_train_new)"
   ]
  },
  {
   "cell_type": "code",
   "execution_count": 67,
   "metadata": {},
   "outputs": [
    {
     "name": "stdout",
     "output_type": "stream",
     "text": [
      "Converting to features started.\n"
     ]
    },
    {
     "data": {
      "application/vnd.jupyter.widget-view+json": {
       "model_id": "c66acec57a6043afacd6481b8f917f57",
       "version_major": 2,
       "version_minor": 0
      },
      "text/plain": [
       "HBox(children=(IntProgress(value=0, max=560), HTML(value='')))"
      ]
     },
     "metadata": {},
     "output_type": "display_data"
    },
    {
     "name": "stdout",
     "output_type": "stream",
     "text": [
      "\n"
     ]
    },
    {
     "data": {
      "application/vnd.jupyter.widget-view+json": {
       "model_id": "02ee270258494faca0af4cbd17834994",
       "version_major": 2,
       "version_minor": 0
      },
      "text/plain": [
       "HBox(children=(IntProgress(value=0, max=70), HTML(value='')))"
      ]
     },
     "metadata": {},
     "output_type": "display_data"
    },
    {
     "name": "stdout",
     "output_type": "stream",
     "text": [
      "\n",
      "{'eval_loss': 0.2804098552891186, 'precision': 0.4858689116055322, 'recall': 0.6417791898332009, 'f1_score': 0.5530458590006845}\n"
     ]
    }
   ],
   "source": [
    "genia_result, genia_model_outputs, genia_predictions = genia_model.eval_model(genia_test_new)"
   ]
  },
  {
   "cell_type": "code",
   "execution_count": null,
   "metadata": {},
   "outputs": [],
   "source": []
  }
 ],
 "metadata": {
  "kernelspec": {
   "display_name": "Python 3",
   "language": "python",
   "name": "python3"
  },
  "language_info": {
   "codemirror_mode": {
    "name": "ipython",
    "version": 3
   },
   "file_extension": ".py",
   "mimetype": "text/x-python",
   "name": "python",
   "nbconvert_exporter": "python",
   "pygments_lexer": "ipython3",
   "version": "3.6.5"
  }
 },
 "nbformat": 4,
 "nbformat_minor": 2
}
